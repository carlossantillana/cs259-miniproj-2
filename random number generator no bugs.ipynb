{
 "cells": [
  {
   "cell_type": "code",
   "execution_count": 8,
   "metadata": {},
   "outputs": [],
   "source": [
    "import random\n",
    "file = open(\"output_tuples.txt\",\"a\") \n",
    "uniques = set()\n",
    "def randd(upper):\n",
    "    return str(int(random.uniform(1, upper)))\n",
    "for i in range(600):\n",
    "    tmp = str(\"std::make_tuple(\"+ randd(700) + \", \"+ randd(322) + \", \"+ randd(2048) + \", \" + randd(16) + \", \"+ randd(512) + \", \"+ randd(20) + \", \"+randd(5) + \", \"+randd(1) + \", \"+randd(1) + \", \"+randd(1) + \", \"+randd(1) + \"),\\n\")\n",
    "    uniques.add(tmp)\n",
    "    file.write(tmp)"
   ]
  },
  {
   "cell_type": "code",
   "execution_count": null,
   "metadata": {},
   "outputs": [],
   "source": []
  }
 ],
 "metadata": {
  "kernelspec": {
   "display_name": "Python 3",
   "language": "python",
   "name": "python3"
  },
  "language_info": {
   "codemirror_mode": {
    "name": "ipython",
    "version": 3
   },
   "file_extension": ".py",
   "mimetype": "text/x-python",
   "name": "python",
   "nbconvert_exporter": "python",
   "pygments_lexer": "ipython3",
   "version": "3.7.6"
  }
 },
 "nbformat": 4,
 "nbformat_minor": 4
}
